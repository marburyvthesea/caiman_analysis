{
 "cells": [
  {
   "cell_type": "code",
   "execution_count": 1,
   "metadata": {
    "collapsed": true
   },
   "outputs": [],
   "source": [
    "import imageio\n",
    "import os\n",
    "import numpy as np\n",
    "import sys"
   ]
  },
  {
   "cell_type": "code",
   "execution_count": 9,
   "metadata": {
    "collapsed": true
   },
   "outputs": [],
   "source": [
    "dir_path='/projects/b1118/miniscope/data/v4/JJM/RotaryWheel/DIO_r2_1/Day1/2021_11_18/18_04_18/My_V4_Miniscope/'"
   ]
  },
  {
   "cell_type": "code",
   "execution_count": 10,
   "metadata": {
    "collapsed": true
   },
   "outputs": [],
   "source": [
    "# this works if v3\n",
    "avi_files = [dir_path + fname for fname in os.listdir(dir_path) if 'msCam' in fname and 'avi' in fname]\n",
    "# this works if v4 \n",
    "avi_files = [dir_path + fname for fname in os.listdir(dir_path) if 'avi' in fname]"
   ]
  },
  {
   "cell_type": "code",
   "execution_count": 12,
   "metadata": {
    "collapsed": false
   },
   "outputs": [],
   "source": [
    "#avi_files"
   ]
  },
  {
   "cell_type": "code",
   "execution_count": null,
   "metadata": {
    "collapsed": false
   },
   "outputs": [
    {
     "name": "stdout",
     "output_type": "stream",
     "text": [
      "30.avi\n",
      "/projects/b1118/miniscope/data/v4/JJM/RotaryWheel/DIO_r2_1/Day1/2021_11_18/18_04_18/My_V4_Miniscope/My_V4_Miniscope30.tif\n",
      "31.avi\n",
      "/projects/b1118/miniscope/data/v4/JJM/RotaryWheel/DIO_r2_1/Day1/2021_11_18/18_04_18/My_V4_Miniscope/My_V4_Miniscope31.tif\n",
      "14.avi\n",
      "/projects/b1118/miniscope/data/v4/JJM/RotaryWheel/DIO_r2_1/Day1/2021_11_18/18_04_18/My_V4_Miniscope/My_V4_Miniscope14.tif\n"
     ]
    }
   ],
   "source": [
    "for path_to_video in avi_files:\n",
    "    \n",
    "    print(path_to_video.split('/')[-1])\n",
    "    joint = ('/')\n",
    "    savepath = joint.join(path_to_video.split('/')[0:-1])\n",
    "    savepath = savepath+'/'+path_to_video.split('/')[-2]+path_to_video.split('/')[-1].strip('.avi')+'.tif'\n",
    "    print(savepath) \n",
    "    try:\t\n",
    "        video_loaded = imageio.get_reader(path_to_video)\n",
    "        imageio.mimwrite(savepath, video_loaded)\n",
    "    except OSError: \n",
    "        print('error in:'+path_to_video.split('/')[-1])\n",
    "        pass"
   ]
  },
  {
   "cell_type": "code",
   "execution_count": 17,
   "metadata": {
    "collapsed": false
   },
   "outputs": [
    {
     "name": "stdout",
     "output_type": "stream",
     "text": [
      "Requirement already satisfied: imageio-ffmpeg in /home/jma819/.local/lib/python3.6/site-packages\n",
      "\u001b[33mYou are using pip version 9.0.3, however version 21.0.1 is available.\n",
      "You should consider upgrading via the 'pip install --upgrade pip' command.\u001b[0m\n"
     ]
    }
   ],
   "source": [
    "!source activate caiman\n",
    "!pip install --user imageio-ffmpeg"
   ]
  },
  {
   "cell_type": "code",
   "execution_count": null,
   "metadata": {
    "collapsed": true
   },
   "outputs": [],
   "source": []
  }
 ],
 "metadata": {
  "kernelspec": {
   "display_name": "caiman_with_tables",
   "language": "python",
   "name": "caiman_with_tables"
  },
  "language_info": {
   "codemirror_mode": {
    "name": "ipython",
    "version": 3
   },
   "file_extension": ".py",
   "mimetype": "text/x-python",
   "name": "python",
   "nbconvert_exporter": "python",
   "pygments_lexer": "ipython3",
   "version": "3.8.8"
  }
 },
 "nbformat": 4,
 "nbformat_minor": 2
}
