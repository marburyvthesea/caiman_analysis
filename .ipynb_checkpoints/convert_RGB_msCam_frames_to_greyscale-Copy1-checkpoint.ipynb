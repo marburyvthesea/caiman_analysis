{
 "cells": [
  {
   "cell_type": "code",
   "execution_count": 19,
   "metadata": {
    "collapsed": false
   },
   "outputs": [],
   "source": [
    "import av\n",
    "from PIL import Image\n",
    "import matplotlib.pyplot as plt\n",
    "import glob\n",
    "from tqdm import tqdm \n",
    "import numpy as np"
   ]
  },
  {
   "cell_type": "code",
   "execution_count": 36,
   "metadata": {
    "collapsed": true
   },
   "outputs": [],
   "source": [
    "session = 'GRIN009_H14_M35_S51'"
   ]
  },
  {
   "cell_type": "code",
   "execution_count": 37,
   "metadata": {
    "collapsed": false,
    "scrolled": true
   },
   "outputs": [],
   "source": [
    "videos = sorted(glob.glob('/projects/b1118/behaviorvideos/'+session+'/*.avi'))"
   ]
  },
  {
   "cell_type": "code",
   "execution_count": 39,
   "metadata": {
    "collapsed": false,
    "scrolled": true
   },
   "outputs": [],
   "source": [
    "#videos"
   ]
  },
  {
   "cell_type": "code",
   "execution_count": 29,
   "metadata": {
    "collapsed": false
   },
   "outputs": [
    {
     "name": "stderr",
     "output_type": "stream",
     "text": [
      "100%|██████████| 38/38 [02:28<00:00,  3.92s/it]\n"
     ]
    }
   ],
   "source": [
    "converted_array = np.empty([concactenated_length, 472, 473])\n",
    "for video, i in tqdm(zip(videos, range(len(videos))), total=len(videos)):\n",
    "    v = av.open(video)\n",
    "    for packet in v.demux():\n",
    "        for frame in packet.decode():\n",
    "            #if frame.type == 'video':\n",
    "            img = frame.to_image()  \n",
    "            arr = np.asarray(img)\n",
    "            #split into r,g,b channels \n",
    "            r = arr[:, :, 0]\n",
    "            g = arr[:, :, 1]\n",
    "            b = arr[:, :, 2]\n",
    "            #scale pixel values to gray\n",
    "            gray_image = (r*0.299 + g*0.587 +b*0.114)\n",
    "            converted_array[frame.index+int(i*1000)] = gray_image"
   ]
  },
  {
   "cell_type": "code",
   "execution_count": 30,
   "metadata": {
    "collapsed": false
   },
   "outputs": [
    {
     "data": {
      "text/plain": [
       "(472, 473, 3)"
      ]
     },
     "execution_count": 30,
     "metadata": {},
     "output_type": "execute_result"
    }
   ],
   "source": [
    "np.shape(np.asarray(img))"
   ]
  },
  {
   "cell_type": "code",
   "execution_count": 31,
   "metadata": {
    "collapsed": false
   },
   "outputs": [
    {
     "data": {
      "text/plain": [
       "(472, 473)"
      ]
     },
     "execution_count": 31,
     "metadata": {},
     "output_type": "execute_result"
    }
   ],
   "source": [
    "np.shape(converted_array[0])"
   ]
  },
  {
   "cell_type": "code",
   "execution_count": 32,
   "metadata": {
    "collapsed": false
   },
   "outputs": [
    {
     "name": "stderr",
     "output_type": "stream",
     "text": [
      "100%|██████████| 38000/38000 [00:48<00:00, 779.71it/s]\n"
     ]
    }
   ],
   "source": [
    "output = av.open('/projects/b1118/behaviorvideos/'+session+'/'+session+'_gray.avi', mode='w')\n",
    "fps = 30\n",
    "stream = output.add_stream('mpeg4', rate=fps)\n",
    "stream.width = 472\n",
    "stream.height = 473\n",
    "#stream.pix_fmt = 'gray'\n",
    "for frame_i in tqdm(range(np.shape(converted_array)[0])):\n",
    "    new_im = converted_array[frame_i].astype(np.uint8)\n",
    "    #new_im = Image.fromarray(converted_array[frame_i].astype(np.uint8))\n",
    "    #new_frame = av.VideoFrame.from_image(new_im)\n",
    "    new_frame = av.VideoFrame.from_ndarray(new_im, format='gray')\n",
    "    for packet in stream.encode(new_frame):\n",
    "        output.mux(packet)\n",
    "# Flush stream\n",
    "for packet in stream.encode():\n",
    "    output.mux(packet)\n",
    "# Close the file\n",
    "output.close()"
   ]
  },
  {
   "cell_type": "code",
   "execution_count": null,
   "metadata": {
    "collapsed": true
   },
   "outputs": [],
   "source": []
  }
 ],
 "metadata": {
  "kernelspec": {
   "display_name": "caiman_with_tables",
   "language": "python",
   "name": "caiman_with_tables"
  },
  "language_info": {
   "codemirror_mode": {
    "name": "ipython",
    "version": 3
   },
   "file_extension": ".py",
   "mimetype": "text/x-python",
   "name": "python",
   "nbconvert_exporter": "python",
   "pygments_lexer": "ipython3",
   "version": "3.8.8"
  }
 },
 "nbformat": 4,
 "nbformat_minor": 2
}
