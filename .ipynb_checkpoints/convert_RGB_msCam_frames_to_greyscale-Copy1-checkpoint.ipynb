{
 "cells": [
  {
   "cell_type": "code",
   "execution_count": 1,
   "metadata": {
    "collapsed": false
   },
   "outputs": [],
   "source": [
    "import av\n",
    "from PIL import Image\n",
    "import matplotlib.pyplot as plt\n",
    "import glob\n",
    "from tqdm import tqdm \n",
    "import numpy as np\n",
    "import re\n",
    "import os "
   ]
  },
  {
   "cell_type": "code",
   "execution_count": null,
   "metadata": {
    "collapsed": true
   },
   "outputs": [],
   "source": [
    "#change labelling of eg behavCam1 to behavCam01"
   ]
  },
  {
   "cell_type": "code",
   "execution_count": null,
   "metadata": {
    "collapsed": false
   },
   "outputs": [],
   "source": [
    "base_directory = '/projects/b1118/behaviorvideos/to_concat/'\n",
    "session = 'GRIN041_H12_M54_S49'"
   ]
  },
  {
   "cell_type": "code",
   "execution_count": null,
   "metadata": {
    "collapsed": false
   },
   "outputs": [],
   "source": [
    "behavcamfiles = glob.glob(base_directory+session+'/*avi')"
   ]
  },
  {
   "cell_type": "code",
   "execution_count": null,
   "metadata": {
    "collapsed": false,
    "scrolled": true
   },
   "outputs": [],
   "source": [
    "for file in behavcamfiles:\n",
    "    if not re.match(r'behavCam\\d\\d', file.split('/')[-1]):\n",
    "        os.rename(base_directory+session+'/'+file.split('/')[-1],\n",
    "          base_directory+session+'/'+'behavCam'+file.split('/')[-1].strip('behavCam').strip('.avi').zfill(2)+'.avi')\n",
    "        "
   ]
  },
  {
   "cell_type": "code",
   "execution_count": null,
   "metadata": {
    "collapsed": false
   },
   "outputs": [],
   "source": [
    "os.rename(base_directory+session+'/'+behavcamfiles[1].split('/')[-1],\n",
    "          base_directory+session+'/'+'behavCam'+behavcamfiles[1].split('/')[-1].strip('behavCam').strip('.avi').zfill(2)+'.avi')"
   ]
  },
  {
   "cell_type": "code",
   "execution_count": null,
   "metadata": {
    "collapsed": true
   },
   "outputs": [],
   "source": [
    "## concat video"
   ]
  },
  {
   "cell_type": "code",
   "execution_count": 7,
   "metadata": {
    "collapsed": true
   },
   "outputs": [],
   "source": [
    "session = 'GRIN038_H13_M37_S23'"
   ]
  },
  {
   "cell_type": "code",
   "execution_count": 8,
   "metadata": {
    "collapsed": false,
    "scrolled": true
   },
   "outputs": [],
   "source": [
    "videos = sorted(glob.glob('/projects/b1118/behaviorvideos/to_concat/'+session+'/*.avi'))[0:40]"
   ]
  },
  {
   "cell_type": "code",
   "execution_count": 9,
   "metadata": {
    "collapsed": false,
    "scrolled": false
   },
   "outputs": [],
   "source": [
    "#videos"
   ]
  },
  {
   "cell_type": "code",
   "execution_count": null,
   "metadata": {
    "collapsed": false
   },
   "outputs": [],
   "source": [
    "#check frame sizes\n",
    "v_0 = av.open(videos[0])\n",
    "for packet in v_0.demux():\n",
    "    for frame in packet.decode():\n",
    "        shape = np.shape(frame.to_nd_array())"
   ]
  },
  {
   "cell_type": "code",
   "execution_count": 6,
   "metadata": {
    "collapsed": false
   },
   "outputs": [
    {
     "name": "stderr",
     "output_type": "stream",
     "text": [
      "100%|██████████| 40/40 [01:50<00:00,  2.77s/it]\n",
      "100%|██████████| 40000/40000 [00:45<00:00, 873.12it/s]"
     ]
    },
    {
     "name": "stdout",
     "output_type": "stream",
     "text": [
      "saved\n",
      "/projects/b1118/behaviorvideos/to_concat/GRIN038_H15_M39_S40_gray.avi\n"
     ]
    },
    {
     "name": "stderr",
     "output_type": "stream",
     "text": [
      "\n"
     ]
    }
   ],
   "source": [
    "concactenated_length=1000*len(videos)\n",
    "converted_array = np.empty([concactenated_length, shape[0], shape[1]])\n",
    "for video, i in tqdm(zip(videos, range(len(videos))), total=len(videos)):\n",
    "    v = av.open(video)\n",
    "    for packet in v.demux():\n",
    "        for frame in packet.decode():\n",
    "            #if frame.type == 'video':\n",
    "            img = frame.to_image()  \n",
    "            arr = np.asarray(img)\n",
    "            #split into r,g,b channels \n",
    "            r = arr[:, :, 0]\n",
    "            g = arr[:, :, 1]\n",
    "            b = arr[:, :, 2]\n",
    "            #scale pixel values to gray\n",
    "            gray_image = (r*0.299 + g*0.587 +b*0.114)\n",
    "            converted_array[frame.index+int(i*1000)] = gray_image\n",
    "\n",
    "#np.shape(np.asarray(img))\n",
    "#np.shape(converted_array[0])\n",
    "\n",
    "output = av.open('/projects/b1118/behaviorvideos/to_concat/'+session+'_gray.avi', mode='w')\n",
    "fps = 30\n",
    "stream = output.add_stream('mpeg4', rate=fps)\n",
    "stream.width = 472\n",
    "stream.height = 473\n",
    "#stream.pix_fmt = 'gray'\n",
    "for frame_i in tqdm(range(np.shape(converted_array)[0])):\n",
    "    new_im = converted_array[frame_i].astype(np.uint8)\n",
    "    #new_im = Image.fromarray(converted_array[frame_i].astype(np.uint8))\n",
    "    #new_frame = av.VideoFrame.from_image(new_im)\n",
    "    new_frame = av.VideoFrame.from_ndarray(new_im, format='gray')\n",
    "    for packet in stream.encode(new_frame):\n",
    "        output.mux(packet)\n",
    "# Flush stream\n",
    "for packet in stream.encode():\n",
    "    output.mux(packet)\n",
    "# Close the file\n",
    "output.close()\n",
    "print('saved')\n",
    "print('/projects/b1118/behaviorvideos/to_concat/'+session+'_gray.avi')"
   ]
  },
  {
   "cell_type": "code",
   "execution_count": null,
   "metadata": {
    "collapsed": false
   },
   "outputs": [],
   "source": [
    "np.shape(new_im)\n",
    "np.shape(av.VideoFrame.to_ndarray(new_frame))"
   ]
  },
  {
   "cell_type": "code",
   "execution_count": null,
   "metadata": {
    "collapsed": true
   },
   "outputs": [],
   "source": []
  }
 ],
 "metadata": {
  "kernelspec": {
   "display_name": "caiman_with_tables",
   "language": "python",
   "name": "caiman_with_tables"
  },
  "language_info": {
   "codemirror_mode": {
    "name": "ipython",
    "version": 3
   },
   "file_extension": ".py",
   "mimetype": "text/x-python",
   "name": "python",
   "nbconvert_exporter": "python",
   "pygments_lexer": "ipython3",
   "version": "3.8.8"
  }
 },
 "nbformat": 4,
 "nbformat_minor": 2
}
