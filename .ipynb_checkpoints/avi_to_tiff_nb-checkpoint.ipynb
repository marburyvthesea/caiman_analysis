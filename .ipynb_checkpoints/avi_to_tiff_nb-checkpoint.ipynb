{
 "cells": [
  {
   "cell_type": "code",
   "execution_count": 1,
   "metadata": {
    "collapsed": true
   },
   "outputs": [],
   "source": [
    "import imageio\n",
    "import os\n",
    "import numpy as np\n",
    "import sys"
   ]
  },
  {
   "cell_type": "code",
   "execution_count": 2,
   "metadata": {
    "collapsed": true
   },
   "outputs": [],
   "source": [
    "dir_path='/projects/b1118/miniscope/data/GRIN044/1_25_2021/H14_M39_S27/'"
   ]
  },
  {
   "cell_type": "code",
   "execution_count": 3,
   "metadata": {
    "collapsed": true
   },
   "outputs": [],
   "source": [
    "avi_files = [dir_path + fname for fname in os.listdir(dir_path) if 'msCam' in fname and 'avi' in fname]"
   ]
  },
  {
   "cell_type": "code",
   "execution_count": 4,
   "metadata": {
    "collapsed": false
   },
   "outputs": [
    {
     "name": "stdout",
     "output_type": "stream",
     "text": [
      "msCam3.avi\n",
      "/projects/b1118/miniscope/data/GRIN044/1_25_2021/H14_M39_S27/H14_M39_S27msCam3.tif\n",
      "msCam34.avi\n",
      "/projects/b1118/miniscope/data/GRIN044/1_25_2021/H14_M39_S27/H14_M39_S27msCam34.tif\n",
      "msCam2.avi\n",
      "/projects/b1118/miniscope/data/GRIN044/1_25_2021/H14_M39_S27/H14_M39_S27msCam2.tif\n",
      "msCam10.avi\n",
      "/projects/b1118/miniscope/data/GRIN044/1_25_2021/H14_M39_S27/H14_M39_S27msCam10.tif\n",
      "msCam59.avi\n",
      "/projects/b1118/miniscope/data/GRIN044/1_25_2021/H14_M39_S27/H14_M39_S27msCam59.tif\n",
      "msCam12.avi\n",
      "/projects/b1118/miniscope/data/GRIN044/1_25_2021/H14_M39_S27/H14_M39_S27msCam12.tif\n",
      "msCam17.avi\n",
      "/projects/b1118/miniscope/data/GRIN044/1_25_2021/H14_M39_S27/H14_M39_S27msCam17.tif\n",
      "msCam13.avi\n",
      "/projects/b1118/miniscope/data/GRIN044/1_25_2021/H14_M39_S27/H14_M39_S27msCam13.tif\n",
      "msCam64.avi\n",
      "/projects/b1118/miniscope/data/GRIN044/1_25_2021/H14_M39_S27/H14_M39_S27msCam64.tif\n",
      "msCam15.avi\n",
      "/projects/b1118/miniscope/data/GRIN044/1_25_2021/H14_M39_S27/H14_M39_S27msCam15.tif\n",
      "msCam61.avi\n",
      "/projects/b1118/miniscope/data/GRIN044/1_25_2021/H14_M39_S27/H14_M39_S27msCam61.tif\n",
      "msCam60.avi\n",
      "/projects/b1118/miniscope/data/GRIN044/1_25_2021/H14_M39_S27/H14_M39_S27msCam60.tif\n",
      "msCam43.avi\n",
      "/projects/b1118/miniscope/data/GRIN044/1_25_2021/H14_M39_S27/H14_M39_S27msCam43.tif\n",
      "msCam53.avi\n",
      "/projects/b1118/miniscope/data/GRIN044/1_25_2021/H14_M39_S27/H14_M39_S27msCam53.tif\n",
      "msCam42.avi\n",
      "/projects/b1118/miniscope/data/GRIN044/1_25_2021/H14_M39_S27/H14_M39_S27msCam42.tif\n",
      "msCam5.avi\n",
      "/projects/b1118/miniscope/data/GRIN044/1_25_2021/H14_M39_S27/H14_M39_S27msCam5.tif\n",
      "msCam19.avi\n",
      "/projects/b1118/miniscope/data/GRIN044/1_25_2021/H14_M39_S27/H14_M39_S27msCam19.tif\n",
      "msCam63.avi\n",
      "/projects/b1118/miniscope/data/GRIN044/1_25_2021/H14_M39_S27/H14_M39_S27msCam63.tif\n",
      "msCam38.avi\n",
      "/projects/b1118/miniscope/data/GRIN044/1_25_2021/H14_M39_S27/H14_M39_S27msCam38.tif\n",
      "msCam20.avi\n",
      "/projects/b1118/miniscope/data/GRIN044/1_25_2021/H14_M39_S27/H14_M39_S27msCam20.tif\n",
      "msCam36.avi\n",
      "/projects/b1118/miniscope/data/GRIN044/1_25_2021/H14_M39_S27/H14_M39_S27msCam36.tif\n",
      "msCam16.avi\n",
      "/projects/b1118/miniscope/data/GRIN044/1_25_2021/H14_M39_S27/H14_M39_S27msCam16.tif\n",
      "msCam6.avi\n",
      "/projects/b1118/miniscope/data/GRIN044/1_25_2021/H14_M39_S27/H14_M39_S27msCam6.tif\n",
      "msCam49.avi\n",
      "/projects/b1118/miniscope/data/GRIN044/1_25_2021/H14_M39_S27/H14_M39_S27msCam49.tif\n",
      "msCam44.avi\n",
      "/projects/b1118/miniscope/data/GRIN044/1_25_2021/H14_M39_S27/H14_M39_S27msCam44.tif\n",
      "msCam62.avi\n",
      "/projects/b1118/miniscope/data/GRIN044/1_25_2021/H14_M39_S27/H14_M39_S27msCam62.tif\n",
      "msCam50.avi\n",
      "/projects/b1118/miniscope/data/GRIN044/1_25_2021/H14_M39_S27/H14_M39_S27msCam50.tif\n",
      "msCam28.avi\n",
      "/projects/b1118/miniscope/data/GRIN044/1_25_2021/H14_M39_S27/H14_M39_S27msCam28.tif\n",
      "msCam57.avi\n",
      "/projects/b1118/miniscope/data/GRIN044/1_25_2021/H14_M39_S27/H14_M39_S27msCam57.tif\n",
      "msCam66.avi\n",
      "/projects/b1118/miniscope/data/GRIN044/1_25_2021/H14_M39_S27/H14_M39_S27msCam66.tif\n",
      "msCam8.avi\n",
      "/projects/b1118/miniscope/data/GRIN044/1_25_2021/H14_M39_S27/H14_M39_S27msCam8.tif\n",
      "msCam24.avi\n",
      "/projects/b1118/miniscope/data/GRIN044/1_25_2021/H14_M39_S27/H14_M39_S27msCam24.tif\n",
      "msCam48.avi\n",
      "/projects/b1118/miniscope/data/GRIN044/1_25_2021/H14_M39_S27/H14_M39_S27msCam48.tif\n",
      "msCam52.avi\n",
      "/projects/b1118/miniscope/data/GRIN044/1_25_2021/H14_M39_S27/H14_M39_S27msCam52.tif\n",
      "msCam32.avi\n",
      "/projects/b1118/miniscope/data/GRIN044/1_25_2021/H14_M39_S27/H14_M39_S27msCam32.tif\n",
      "msCam14.avi\n",
      "/projects/b1118/miniscope/data/GRIN044/1_25_2021/H14_M39_S27/H14_M39_S27msCam14.tif\n",
      "msCam65.avi\n",
      "/projects/b1118/miniscope/data/GRIN044/1_25_2021/H14_M39_S27/H14_M39_S27msCam65.tif\n",
      "msCam54.avi\n",
      "/projects/b1118/miniscope/data/GRIN044/1_25_2021/H14_M39_S27/H14_M39_S27msCam54.tif\n",
      "msCam23.avi\n",
      "/projects/b1118/miniscope/data/GRIN044/1_25_2021/H14_M39_S27/H14_M39_S27msCam23.tif\n",
      "msCam18.avi\n",
      "/projects/b1118/miniscope/data/GRIN044/1_25_2021/H14_M39_S27/H14_M39_S27msCam18.tif\n",
      "msCam47.avi\n",
      "/projects/b1118/miniscope/data/GRIN044/1_25_2021/H14_M39_S27/H14_M39_S27msCam47.tif\n",
      "msCam40.avi\n",
      "/projects/b1118/miniscope/data/GRIN044/1_25_2021/H14_M39_S27/H14_M39_S27msCam40.tif\n",
      "msCam51.avi\n",
      "/projects/b1118/miniscope/data/GRIN044/1_25_2021/H14_M39_S27/H14_M39_S27msCam51.tif\n",
      "msCam58.avi\n",
      "/projects/b1118/miniscope/data/GRIN044/1_25_2021/H14_M39_S27/H14_M39_S27msCam58.tif\n",
      "msCam46.avi\n",
      "/projects/b1118/miniscope/data/GRIN044/1_25_2021/H14_M39_S27/H14_M39_S27msCam46.tif\n",
      "msCam31.avi\n",
      "/projects/b1118/miniscope/data/GRIN044/1_25_2021/H14_M39_S27/H14_M39_S27msCam31.tif\n",
      "msCam1.avi\n",
      "/projects/b1118/miniscope/data/GRIN044/1_25_2021/H14_M39_S27/H14_M39_S27msCam1.tif\n",
      "msCam39.avi\n",
      "/projects/b1118/miniscope/data/GRIN044/1_25_2021/H14_M39_S27/H14_M39_S27msCam39.tif\n",
      "msCam21.avi\n",
      "/projects/b1118/miniscope/data/GRIN044/1_25_2021/H14_M39_S27/H14_M39_S27msCam21.tif\n",
      "msCam9.avi\n",
      "/projects/b1118/miniscope/data/GRIN044/1_25_2021/H14_M39_S27/H14_M39_S27msCam9.tif\n",
      "msCam7.avi\n",
      "/projects/b1118/miniscope/data/GRIN044/1_25_2021/H14_M39_S27/H14_M39_S27msCam7.tif\n",
      "msCam25.avi\n",
      "/projects/b1118/miniscope/data/GRIN044/1_25_2021/H14_M39_S27/H14_M39_S27msCam25.tif\n",
      "msCam29.avi\n",
      "/projects/b1118/miniscope/data/GRIN044/1_25_2021/H14_M39_S27/H14_M39_S27msCam29.tif\n",
      "msCam22.avi\n",
      "/projects/b1118/miniscope/data/GRIN044/1_25_2021/H14_M39_S27/H14_M39_S27msCam22.tif\n",
      "msCam26.avi\n",
      "/projects/b1118/miniscope/data/GRIN044/1_25_2021/H14_M39_S27/H14_M39_S27msCam26.tif\n",
      "msCam55.avi\n",
      "/projects/b1118/miniscope/data/GRIN044/1_25_2021/H14_M39_S27/H14_M39_S27msCam55.tif\n",
      "msCam35.avi\n",
      "/projects/b1118/miniscope/data/GRIN044/1_25_2021/H14_M39_S27/H14_M39_S27msCam35.tif\n",
      "msCam11.avi\n",
      "/projects/b1118/miniscope/data/GRIN044/1_25_2021/H14_M39_S27/H14_M39_S27msCam11.tif\n",
      "msCam67.avi\n",
      "/projects/b1118/miniscope/data/GRIN044/1_25_2021/H14_M39_S27/H14_M39_S27msCam67.tif\n",
      "msCam56.avi\n",
      "/projects/b1118/miniscope/data/GRIN044/1_25_2021/H14_M39_S27/H14_M39_S27msCam56.tif\n",
      "msCam45.avi\n",
      "/projects/b1118/miniscope/data/GRIN044/1_25_2021/H14_M39_S27/H14_M39_S27msCam45.tif\n",
      "msCam33.avi\n",
      "/projects/b1118/miniscope/data/GRIN044/1_25_2021/H14_M39_S27/H14_M39_S27msCam33.tif\n",
      "msCam4.avi\n",
      "/projects/b1118/miniscope/data/GRIN044/1_25_2021/H14_M39_S27/H14_M39_S27msCam4.tif\n",
      "msCam27.avi\n",
      "/projects/b1118/miniscope/data/GRIN044/1_25_2021/H14_M39_S27/H14_M39_S27msCam27.tif\n",
      "msCam30.avi\n",
      "/projects/b1118/miniscope/data/GRIN044/1_25_2021/H14_M39_S27/H14_M39_S27msCam30.tif\n",
      "msCam41.avi\n",
      "/projects/b1118/miniscope/data/GRIN044/1_25_2021/H14_M39_S27/H14_M39_S27msCam41.tif\n",
      "msCam37.avi\n",
      "/projects/b1118/miniscope/data/GRIN044/1_25_2021/H14_M39_S27/H14_M39_S27msCam37.tif\n"
     ]
    }
   ],
   "source": [
    "for path_to_video in avi_files:\n",
    "    \n",
    "    print(path_to_video.split('/')[-1])\n",
    "    joint = ('/')\n",
    "    savepath = joint.join(path_to_video.split('/')[0:-1])\n",
    "    savepath = savepath+'/'+path_to_video.split('/')[-2]+path_to_video.split('/')[-1].strip('.avi')+'.tif'\n",
    "    print(savepath) \n",
    "    try:\t\n",
    "        video_loaded = imageio.get_reader(path_to_video)\n",
    "        imageio.mimwrite(savepath, video_loaded)\n",
    "    except OSError: \n",
    "        print('error in:'+path_to_video.split('/')[-1])\n",
    "        pass"
   ]
  },
  {
   "cell_type": "code",
   "execution_count": 17,
   "metadata": {
    "collapsed": false
   },
   "outputs": [
    {
     "name": "stdout",
     "output_type": "stream",
     "text": [
      "Requirement already satisfied: imageio-ffmpeg in /home/jma819/.local/lib/python3.6/site-packages\n",
      "\u001b[33mYou are using pip version 9.0.3, however version 21.0.1 is available.\n",
      "You should consider upgrading via the 'pip install --upgrade pip' command.\u001b[0m\n"
     ]
    }
   ],
   "source": [
    "!source activate caiman\n",
    "!pip install --user imageio-ffmpeg"
   ]
  },
  {
   "cell_type": "code",
   "execution_count": null,
   "metadata": {
    "collapsed": true
   },
   "outputs": [],
   "source": []
  }
 ],
 "metadata": {
  "kernelspec": {
   "display_name": "caiman_with_tables",
   "language": "python",
   "name": "caiman_with_tables"
  },
  "language_info": {
   "codemirror_mode": {
    "name": "ipython",
    "version": 3
   },
   "file_extension": ".py",
   "mimetype": "text/x-python",
   "name": "python",
   "nbconvert_exporter": "python",
   "pygments_lexer": "ipython3",
   "version": "3.8.8"
  }
 },
 "nbformat": 4,
 "nbformat_minor": 2
}
