{
 "cells": [
  {
   "cell_type": "code",
   "execution_count": 26,
   "metadata": {
    "collapsed": false
   },
   "outputs": [],
   "source": [
    "import imageio\n",
    "import os\n",
    "import numpy as np\n",
    "import sys\n",
    "from tqdm import tqdm"
   ]
  },
  {
   "cell_type": "code",
   "execution_count": 27,
   "metadata": {
    "collapsed": true
   },
   "outputs": [],
   "source": [
    "dir_path='/projects/b1118/miniscope/data/v4/JJM/RotaryWheel/DIO_r2_4/Day14/2021_12_02/20_08_41/My_V4_Miniscope/'"
   ]
  },
  {
   "cell_type": "code",
   "execution_count": 28,
   "metadata": {
    "collapsed": true
   },
   "outputs": [],
   "source": [
    "# this works if v3\n",
    "#avi_files = [dir_path + fname for fname in os.listdir(dir_path) if 'msCam' in fname and 'avi' in fname]\n",
    "# this works if v4 \n",
    "avi_files = [dir_path + fname for fname in os.listdir(dir_path) if 'avi' in fname]"
   ]
  },
  {
   "cell_type": "code",
   "execution_count": 29,
   "metadata": {
    "collapsed": false
   },
   "outputs": [],
   "source": [
    "#avi_files"
   ]
  },
  {
   "cell_type": "code",
   "execution_count": 30,
   "metadata": {
    "collapsed": false
   },
   "outputs": [
    {
     "name": "stderr",
     "output_type": "stream",
     "text": [
      "\r",
      "  0%|          | 0/4 [00:00<?, ?it/s]"
     ]
    },
    {
     "name": "stdout",
     "output_type": "stream",
     "text": [
      "converting to tiff\n",
      "30.avi\n",
      "/projects/b1118/miniscope/data/v4/JJM/RotaryWheel/DIO_r2_4/Day14/2021_12_02/20_08_41/My_V4_Miniscope/My_V4_Miniscope30.tif\n",
      "loaded\n"
     ]
    },
    {
     "name": "stderr",
     "output_type": "stream",
     "text": [
      "\r",
      " 25%|██▌       | 1/4 [00:05<00:15,  5.01s/it]"
     ]
    },
    {
     "name": "stdout",
     "output_type": "stream",
     "text": [
      "saved\n",
      "converting to tiff\n",
      "31.avi\n",
      "/projects/b1118/miniscope/data/v4/JJM/RotaryWheel/DIO_r2_4/Day14/2021_12_02/20_08_41/My_V4_Miniscope/My_V4_Miniscope31.tif\n",
      "loaded\n"
     ]
    },
    {
     "name": "stderr",
     "output_type": "stream",
     "text": [
      "\r",
      " 50%|█████     | 2/4 [00:10<00:10,  5.24s/it]"
     ]
    },
    {
     "name": "stdout",
     "output_type": "stream",
     "text": [
      "saved\n",
      "converting to tiff\n",
      "51.avi\n",
      "/projects/b1118/miniscope/data/v4/JJM/RotaryWheel/DIO_r2_4/Day14/2021_12_02/20_08_41/My_V4_Miniscope/My_V4_Miniscope51.tif\n",
      "loaded\n"
     ]
    },
    {
     "name": "stderr",
     "output_type": "stream",
     "text": [
      "\r",
      " 75%|███████▌  | 3/4 [00:15<00:05,  5.16s/it]"
     ]
    },
    {
     "name": "stdout",
     "output_type": "stream",
     "text": [
      "saved\n",
      "converting to tiff\n",
      "52.avi\n",
      "/projects/b1118/miniscope/data/v4/JJM/RotaryWheel/DIO_r2_4/Day14/2021_12_02/20_08_41/My_V4_Miniscope/My_V4_Miniscope52.tif\n",
      "loaded\n"
     ]
    },
    {
     "name": "stderr",
     "output_type": "stream",
     "text": [
      "100%|██████████| 4/4 [00:20<00:00,  5.13s/it]"
     ]
    },
    {
     "name": "stdout",
     "output_type": "stream",
     "text": [
      "saved\n"
     ]
    },
    {
     "name": "stderr",
     "output_type": "stream",
     "text": [
      "\n"
     ]
    }
   ],
   "source": [
    "for path_to_video in tqdm(avi_files[0:4]):\n",
    "    print('converting to tiff')\n",
    "    print(path_to_video.split('/')[-1])\n",
    "    joint = ('/')\n",
    "    savepath = joint.join(path_to_video.split('/')[0:-1])\n",
    "    savepath = savepath+'/'+path_to_video.split('/')[-2]+path_to_video.split('/')[-1].strip('.avi')+'.tif'\n",
    "    print(savepath)\n",
    "    try:\n",
    "        video_loaded = imageio.get_reader(path_to_video)\n",
    "        print('loaded')\n",
    "        imageio.mimwrite(savepath, video_loaded)\n",
    "        print('saved')\n",
    "    except OSError:\n",
    "        print('error in:'+path_to_video)\n",
    "        pass"
   ]
  },
  {
   "cell_type": "code",
   "execution_count": 13,
   "metadata": {
    "collapsed": false
   },
   "outputs": [],
   "source": [
    "video_loaded = imageio.get_reader(avi_files[0])\n"
   ]
  },
  {
   "cell_type": "code",
   "execution_count": 20,
   "metadata": {
    "collapsed": false
   },
   "outputs": [
    {
     "data": {
      "text/plain": [
       "<imageio.plugins.ffmpeg.FfmpegFormat.Reader at 0x2b61216d7a60>"
      ]
     },
     "execution_count": 20,
     "metadata": {},
     "output_type": "execute_result"
    }
   ],
   "source": []
  },
  {
   "cell_type": "code",
   "execution_count": 17,
   "metadata": {
    "collapsed": false
   },
   "outputs": [
    {
     "name": "stdout",
     "output_type": "stream",
     "text": [
      "Requirement already satisfied: imageio-ffmpeg in /home/jma819/.local/lib/python3.6/site-packages\n",
      "\u001b[33mYou are using pip version 9.0.3, however version 21.0.1 is available.\n",
      "You should consider upgrading via the 'pip install --upgrade pip' command.\u001b[0m\n"
     ]
    }
   ],
   "source": [
    "!source activate caiman\n",
    "!pip install --user imageio-ffmpeg"
   ]
  },
  {
   "cell_type": "code",
   "execution_count": null,
   "metadata": {
    "collapsed": true
   },
   "outputs": [],
   "source": []
  }
 ],
 "metadata": {
  "kernelspec": {
   "display_name": "caiman_with_tables",
   "language": "python",
   "name": "caiman_with_tables"
  },
  "language_info": {
   "codemirror_mode": {
    "name": "ipython",
    "version": 3
   },
   "file_extension": ".py",
   "mimetype": "text/x-python",
   "name": "python",
   "nbconvert_exporter": "python",
   "pygments_lexer": "ipython3",
   "version": "3.8.8"
  }
 },
 "nbformat": 4,
 "nbformat_minor": 2
}
