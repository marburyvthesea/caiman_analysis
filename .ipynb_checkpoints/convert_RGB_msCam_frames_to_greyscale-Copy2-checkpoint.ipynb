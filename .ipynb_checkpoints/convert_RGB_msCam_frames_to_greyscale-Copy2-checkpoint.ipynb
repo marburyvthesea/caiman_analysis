{
 "cells": [
  {
   "cell_type": "code",
   "execution_count": 3,
   "metadata": {
    "collapsed": false
   },
   "outputs": [],
   "source": [
    "from PIL import Image\n",
    "from skimage import io\n",
    "import imageio\n",
    "import matplotlib.pyplot as plt\n",
    "from tifffile import imsave\n",
    "import tifffile\n",
    "import glob\n",
    "from tqdm import tqdm \n",
    "import numpy as np "
   ]
  },
  {
   "cell_type": "code",
   "execution_count": 4,
   "metadata": {
    "collapsed": false
   },
   "outputs": [],
   "source": [
    "#glob.glob('/projects/b1118/miniscope/data/v4/JJM/RotaryWheel/DIO_r2_1/Day1/2021_11_18/18_04_18/My_V4_Miniscope/*tif')"
   ]
  },
  {
   "cell_type": "code",
   "execution_count": 5,
   "metadata": {
    "collapsed": true
   },
   "outputs": [],
   "source": [
    "img_to_convert='/projects/b1118/miniscope/data/v4/JJM/RotaryWheel/DIO_r2_4/Day1/2021_11_17/13_03_47/My_V4_Miniscope/subset_tiff_test/My_V4_Miniscope_00_8bit.tif'"
   ]
  },
  {
   "cell_type": "code",
   "execution_count": 6,
   "metadata": {
    "collapsed": false
   },
   "outputs": [
    {
     "data": {
      "text/plain": [
       "(1000, 600, 600)"
      ]
     },
     "execution_count": 6,
     "metadata": {},
     "output_type": "execute_result"
    }
   ],
   "source": [
    "tiff_stack = imageio.mimread(img_to_convert, memtest=False)\n",
    "np.shape(tiff_stack)"
   ]
  },
  {
   "cell_type": "code",
   "execution_count": 17,
   "metadata": {
    "collapsed": false
   },
   "outputs": [
    {
     "name": "stderr",
     "output_type": "stream",
     "text": [
      "100%|██████████| 4/4 [00:02<00:00,  1.35it/s]\n"
     ]
    }
   ],
   "source": [
    "for img_to_convert in tqdm(glob.glob('/projects/b1118/miniscope/data/v4/JJM/RotaryWheel/DIO_r2_4/Day14/2021_12_02/20_08_41/My_V4_Miniscope/*tif')):\n",
    "    tiff_stack = imageio.mimread(img_to_convert, memtest=False)\n",
    "    if len(np.shape(tiff_stack))>3:\n",
    "        #split into r,g,b channels\n",
    "        gray_stack = np.empty([np.shape(tiff_stack[:])[0],\n",
    "                             np.shape(tiff_stack[:])[1],\n",
    "                             np.shape(tiff_stack[:])[2]],\n",
    "                             tiff_stack[1].dtype):\n",
    "        for i in tqdm(range(np.shape(tiff_stack[:])[0])):\n",
    "            frame = tiff_stack[i][:][:][:]\n",
    "            r = frame[:,:,0]\n",
    "            g = frame[:,:,1]\n",
    "            b = frame[:,:,2]\n",
    "            gray_image = (r*0.299 + g*0.587 +b*0.114)\n",
    "            gray_stack[i]=gray_image\n",
    "    \n",
    "        imageio.mimwrite(img_to_convert,gray_stack)\n",
    "    else:\n",
    "        imageio.mimwrite(img_to_convert,tiff_stack)"
   ]
  },
  {
   "cell_type": "code",
   "execution_count": 22,
   "metadata": {
    "collapsed": false
   },
   "outputs": [
    {
     "name": "stderr",
     "output_type": "stream",
     "text": [
      "\r",
      "  0%|          | 0/4 [00:00<?, ?it/s]"
     ]
    },
    {
     "name": "stdout",
     "output_type": "stream",
     "text": [
      "/projects/b1118/miniscope/data/v4/JJM/RotaryWheel/DIO_r2_4/Day14/2021_12_02/20_08_41/My_V4_Miniscope/My_V4_Miniscope31.tif\n"
     ]
    },
    {
     "name": "stderr",
     "output_type": "stream",
     "text": [
      "  0%|          | 0/4 [00:01<?, ?it/s]\n"
     ]
    },
    {
     "ename": "TypeError",
     "evalue": "list indices must be integers or slices, not tuple",
     "output_type": "error",
     "traceback": [
      "\u001b[0;31m---------------------------------------------------------------------------\u001b[0m",
      "\u001b[0;31mTypeError\u001b[0m                                 Traceback (most recent call last)",
      "\u001b[0;32m<ipython-input-22-697debda2b8c>\u001b[0m in \u001b[0;36m<module>\u001b[0;34m\u001b[0m\n\u001b[1;32m     10\u001b[0m     \u001b[0;32mif\u001b[0m \u001b[0mlen\u001b[0m\u001b[0;34m(\u001b[0m\u001b[0mnp\u001b[0m\u001b[0;34m.\u001b[0m\u001b[0mshape\u001b[0m\u001b[0;34m(\u001b[0m\u001b[0mtiff_stack\u001b[0m\u001b[0;34m)\u001b[0m\u001b[0;34m)\u001b[0m\u001b[0;34m>\u001b[0m\u001b[0;36m3\u001b[0m\u001b[0;34m:\u001b[0m\u001b[0;34m\u001b[0m\u001b[0;34m\u001b[0m\u001b[0m\n\u001b[1;32m     11\u001b[0m         \u001b[0;31m#split into r,g,b channels\u001b[0m\u001b[0;34m\u001b[0m\u001b[0;34m\u001b[0m\u001b[0;34m\u001b[0m\u001b[0m\n\u001b[0;32m---> 12\u001b[0;31m         \u001b[0mr\u001b[0m \u001b[0;34m=\u001b[0m \u001b[0mtiff_stack\u001b[0m\u001b[0;34m[\u001b[0m\u001b[0;34m:\u001b[0m\u001b[0;34m,\u001b[0m \u001b[0;34m:\u001b[0m\u001b[0;34m,\u001b[0m \u001b[0;34m:\u001b[0m\u001b[0;34m,\u001b[0m \u001b[0;36m0\u001b[0m\u001b[0;34m]\u001b[0m\u001b[0;34m\u001b[0m\u001b[0;34m\u001b[0m\u001b[0m\n\u001b[0m\u001b[1;32m     13\u001b[0m         \u001b[0mg\u001b[0m \u001b[0;34m=\u001b[0m \u001b[0mtiff_stack\u001b[0m\u001b[0;34m[\u001b[0m\u001b[0;34m:\u001b[0m\u001b[0;34m,\u001b[0m \u001b[0;34m:\u001b[0m\u001b[0;34m,\u001b[0m \u001b[0;34m:\u001b[0m\u001b[0;34m,\u001b[0m \u001b[0;36m1\u001b[0m\u001b[0;34m]\u001b[0m\u001b[0;34m\u001b[0m\u001b[0;34m\u001b[0m\u001b[0m\n\u001b[1;32m     14\u001b[0m         \u001b[0mb\u001b[0m \u001b[0;34m=\u001b[0m \u001b[0mtiff_stack\u001b[0m\u001b[0;34m[\u001b[0m\u001b[0;34m:\u001b[0m\u001b[0;34m,\u001b[0m \u001b[0;34m:\u001b[0m\u001b[0;34m,\u001b[0m \u001b[0;34m:\u001b[0m\u001b[0;34m,\u001b[0m \u001b[0;36m2\u001b[0m\u001b[0;34m]\u001b[0m\u001b[0;34m\u001b[0m\u001b[0;34m\u001b[0m\u001b[0m\n",
      "\u001b[0;31mTypeError\u001b[0m: list indices must be integers or slices, not tuple"
     ]
    }
   ],
   "source": [
    "for img_to_convert in tqdm(glob.glob('/projects/b1118/miniscope/data/v4/JJM/RotaryWheel/DIO_r2_4/Day14/2021_12_02/20_08_41/My_V4_Miniscope/*tif')):\n",
    "    #load image as tiff stack\n",
    "    print(img_to_convert)\n",
    "    try:\n",
    "        tiff_stack = imageio.mimread(img_to_convert, memtest=False)\n",
    "    except IndexError:\n",
    "        print('error with', img_to_convert)\n",
    "        pass\n",
    "    #check if rgb\n",
    "    if len(np.shape(tiff_stack))>3:\n",
    "        #split into r,g,b channels \n",
    "        r = tiff_stack[:, :, :, 0]\n",
    "        g = tiff_stack[:, :, :, 1]\n",
    "        b = tiff_stack[:, :, :, 2]\n",
    "        #scale pixel values to gray\n",
    "        gray_image = (r*0.299 + g*0.587 +b*0.114)\n",
    "        imsave(img_to_convert, gray_image)\n",
    "    else:\n",
    "        imsave(img_to_convert, tiff_stack)"
   ]
  },
  {
   "cell_type": "code",
   "execution_count": null,
   "metadata": {
    "collapsed": false
   },
   "outputs": [],
   "source": [
    "tiff_stack = io.imread('/projects/b1118/miniscope/data/v4/JJM/RotaryWheel/DIO_r2_1/Day1/2021_11_18/17_31_56/My_V4_Miniscope/My_V4_Miniscope31.tif')"
   ]
  },
  {
   "cell_type": "code",
   "execution_count": null,
   "metadata": {
    "collapsed": false
   },
   "outputs": [],
   "source": [
    "plt.figure()\n",
    "plt.imshow(gray_image[0,:,:])"
   ]
  }
 ],
 "metadata": {
  "kernelspec": {
   "display_name": "caiman_with_tables",
   "language": "python",
   "name": "caiman_with_tables"
  },
  "language_info": {
   "codemirror_mode": {
    "name": "ipython",
    "version": 3
   },
   "file_extension": ".py",
   "mimetype": "text/x-python",
   "name": "python",
   "nbconvert_exporter": "python",
   "pygments_lexer": "ipython3",
   "version": "3.8.8"
  }
 },
 "nbformat": 4,
 "nbformat_minor": 2
}
